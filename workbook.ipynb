{
 "cells": [
  {
   "cell_type": "code",
   "execution_count": 1,
   "id": "9db4bccc",
   "metadata": {},
   "outputs": [],
   "source": [
    "age=26\n"
   ]
  },
  {
   "cell_type": "code",
   "execution_count": 2,
   "id": "bdae8e6d",
   "metadata": {},
   "outputs": [
    {
     "name": "stdout",
     "output_type": "stream",
     "text": [
      "My age is : 26\n"
     ]
    }
   ],
   "source": [
    "print(\"My age is :\", age)"
   ]
  },
  {
   "cell_type": "code",
   "execution_count": 3,
   "id": "932125b3",
   "metadata": {},
   "outputs": [
    {
     "name": "stdout",
     "output_type": "stream",
     "text": [
      "my name is Rishabh and age is 26\n"
     ]
    }
   ],
   "source": [
    "#format\n",
    "name=\"Rishabh\"\n",
    "age=\"26\"\n",
    "print(\"my name is {} and age is {}\". format(name,age))"
   ]
  },
  {
   "cell_type": "code",
   "execution_count": 4,
   "id": "da260b5f",
   "metadata": {},
   "outputs": [
    {
     "name": "stdout",
     "output_type": "stream",
     "text": [
      "my name is Rishabh and age is 26\n"
     ]
    }
   ],
   "source": [
    "#placeholder\n",
    "print(\"my name is {firstname} and age is {firstage}\".format(firstname=name, firstage=age))"
   ]
  },
  {
   "cell_type": "code",
   "execution_count": 5,
   "id": "58362393",
   "metadata": {},
   "outputs": [
    {
     "name": "stdout",
     "output_type": "stream",
     "text": [
      "my name is Rishabh Kashyap, age is 25 and I have done MBA\n"
     ]
    }
   ],
   "source": [
    "name = \"Rishabh Kashyap\"\n",
    "age= \"25\"\n",
    "degree = \"MBA\"\n",
    "print (\"my name is {firstname}, age is {firstage} and I have done {degree}\".format(firstname=name, firstage = age, degree=degree))"
   ]
  },
  {
   "cell_type": "code",
   "execution_count": 6,
   "id": "c70732e5",
   "metadata": {},
   "outputs": [],
   "source": [
    "##if statement\n",
    "age= 18\n",
    "if age > 18:\n",
    "    print(\"You are eligible to vote\")"
   ]
  },
  {
   "cell_type": "code",
   "execution_count": 7,
   "id": "43892bc5",
   "metadata": {},
   "outputs": [
    {
     "name": "stdout",
     "output_type": "stream",
     "text": [
      "Enter your name=Rishabh\n"
     ]
    }
   ],
   "source": [
    "name= input(\"Enter your name=\")"
   ]
  },
  {
   "cell_type": "code",
   "execution_count": 8,
   "id": "8c852604",
   "metadata": {},
   "outputs": [
    {
     "name": "stdout",
     "output_type": "stream",
     "text": [
      "Enter your age=  30\n",
      "You are young blood\n"
     ]
    }
   ],
   "source": [
    "age= int(input(\"Enter your age=  \"))\n",
    "if age>18 and age<32:\n",
    "    print(\"You are young blood\")\n",
    "else:\n",
    "    print(\"Your application is rejected\")"
   ]
  },
  {
   "cell_type": "code",
   "execution_count": 9,
   "id": "9de732be",
   "metadata": {},
   "outputs": [
    {
     "name": "stdout",
     "output_type": "stream",
     "text": [
      "Please enter the price of your product  200000000000\n",
      "Your final bill is 160000000000.0\n"
     ]
    }
   ],
   "source": [
    "##account money\n",
    "##if prodcut is >1000 @20% off\n",
    "##if product is <1000 @30% off\n",
    "rate = int(input(\"Please enter the price of your product  \"))\n",
    "if rate <=1000:\n",
    "    print(\"Your final bill is {}\".format(rate*0.7))\n",
    "else:\n",
    "    print(\"Your final bill is {}\".format(rate*0.8))"
   ]
  },
  {
   "cell_type": "code",
   "execution_count": 12,
   "id": "daf9adc2",
   "metadata": {},
   "outputs": [
    {
     "name": "stdout",
     "output_type": "stream",
     "text": [
      "Enter the price2005\n",
      "The price of the product is 1403.5\n"
     ]
    }
   ],
   "source": [
    "product_price=int(input(\"Enter the price\"))\n",
    "if product_price>3000:\n",
    "    if product_price==4000:\n",
    "        print(\"Congratulations you get a Goa Trip\")\n",
    "    print(f\"The price of the product is {product_price*0.8}\")\n",
    "elif product_price>=2000 and product_price<=3000:\n",
    "    if product_price==2999:\n",
    "        print(\"Congratulations you get an additional gift\")\n",
    "    print(f\"The price of the product is {product_price*0.7}\")\n",
    "elif product_price>=100 and product_price<2000:\n",
    "    print(f\"The price of the product is {product_price*0.6}\")\n",
    "else:\n",
    "    print(\"Lets drink tea\")\n",
    "    print(\"I will also be there\")"
   ]
  },
  {
   "cell_type": "code",
   "execution_count": 14,
   "id": "fc74e8e1",
   "metadata": {},
   "outputs": [
    {
     "name": "stdout",
     "output_type": "stream",
     "text": [
      "Enter the number600000\n",
      "Go Home\n"
     ]
    }
   ],
   "source": [
    "## Single statement Suites\n",
    "val=int(input('Enter the number'))\n",
    "if(val<=999):print(\"Value is less than equal to 999\")\n",
    "else:\n",
    "    print(\"Go Home\")"
   ]
  },
  {
   "cell_type": "code",
   "execution_count": null,
   "id": "eb28bd5c",
   "metadata": {},
   "outputs": [],
   "source": []
  },
  {
   "cell_type": "code",
   "execution_count": null,
   "id": "f8a611fb",
   "metadata": {},
   "outputs": [],
   "source": []
  }
 ],
 "metadata": {
  "kernelspec": {
   "display_name": "Python 3 (ipykernel)",
   "language": "python",
   "name": "python3"
  },
  "language_info": {
   "codemirror_mode": {
    "name": "ipython",
    "version": 3
   },
   "file_extension": ".py",
   "mimetype": "text/x-python",
   "name": "python",
   "nbconvert_exporter": "python",
   "pygments_lexer": "ipython3",
   "version": "3.9.13"
  }
 },
 "nbformat": 4,
 "nbformat_minor": 5
}
